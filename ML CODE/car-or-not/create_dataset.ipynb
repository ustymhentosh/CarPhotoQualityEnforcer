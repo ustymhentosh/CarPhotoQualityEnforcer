{
 "cells": [
  {
   "cell_type": "code",
   "execution_count": 1,
   "id": "e706ae67",
   "metadata": {},
   "outputs": [],
   "source": [
    "import os\n",
    "import shutil"
   ]
  },
  {
   "cell_type": "code",
   "execution_count": null,
   "id": "32e8ce3b",
   "metadata": {},
   "outputs": [],
   "source": [
    "## NOT CARS = ALL(\"../data/RIA_2_CLASSES/in\") + 100(\"../data/INTERIOR\")\n",
    "## CARS = 400(\"../data/RIA_2_CLASSES/\")"
   ]
  },
  {
   "cell_type": "code",
   "execution_count": 5,
   "id": "e007b95a",
   "metadata": {},
   "outputs": [],
   "source": [
    "os.makedirs(\"../data/CAR_NOT_CAR_DATASET/car\")"
   ]
  },
  {
   "cell_type": "code",
   "execution_count": 4,
   "id": "b0262c0b",
   "metadata": {},
   "outputs": [],
   "source": [
    "for i in os.listdir(\"../data/RIA_2_CLASSES/in\"):\n",
    "    shutil.copy(os.path.join(\"../data/RIA_2_CLASSES/in\", i), \"../data/CAR_NOT_CAR_DATASET/not_car\")"
   ]
  },
  {
   "cell_type": "code",
   "execution_count": 7,
   "id": "602f869f",
   "metadata": {},
   "outputs": [],
   "source": [
    "for indx, i in enumerate(os.listdir(\"../data/INTERIOR/\")):\n",
    "    if indx > 128:\n",
    "        break\n",
    "    shutil.copy(os.path.join(\"../data/INTERIOR\", i), \"../data/CAR_NOT_CAR_DATASET/not_car\")"
   ]
  },
  {
   "cell_type": "code",
   "execution_count": 8,
   "id": "f481ac14",
   "metadata": {},
   "outputs": [
    {
     "data": {
      "text/plain": [
       "401"
      ]
     },
     "execution_count": 8,
     "metadata": {},
     "output_type": "execute_result"
    }
   ],
   "source": [
    "len(os.listdir(\"../data/CAR_NOT_CAR_DATASET/not_car\"))"
   ]
  },
  {
   "cell_type": "code",
   "execution_count": 10,
   "id": "61b466ca",
   "metadata": {},
   "outputs": [],
   "source": [
    "for i in os.listdir(\"../data/RIA_2_CLASSES/\"):\n",
    "    if i not in [\"d\", \"in\"]:\n",
    "        for j, val in enumerate(os.listdir(os.path.join(\"../data/RIA_2_CLASSES/\", i))):\n",
    "            if j > 49:\n",
    "                break\n",
    "            shutil.copy(os.path.join(\"../data/RIA_2_CLASSES/\", i, val), \"../data/CAR_NOT_CAR_DATASET/car\")"
   ]
  },
  {
   "cell_type": "code",
   "execution_count": 11,
   "id": "1870957c",
   "metadata": {},
   "outputs": [
    {
     "data": {
      "text/plain": [
       "400"
      ]
     },
     "execution_count": 11,
     "metadata": {},
     "output_type": "execute_result"
    }
   ],
   "source": [
    "len(os.listdir(\"../data/CAR_NOT_CAR_DATASET/car\"))"
   ]
  }
 ],
 "metadata": {
  "kernelspec": {
   "display_name": "Python 3",
   "language": "python",
   "name": "python3"
  },
  "language_info": {
   "codemirror_mode": {
    "name": "ipython",
    "version": 3
   },
   "file_extension": ".py",
   "mimetype": "text/x-python",
   "name": "python",
   "nbconvert_exporter": "python",
   "pygments_lexer": "ipython3",
   "version": "3.12.3"
  }
 },
 "nbformat": 4,
 "nbformat_minor": 5
}
